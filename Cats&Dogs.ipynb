{
  "nbformat": 4,
  "nbformat_minor": 0,
  "metadata": {
    "colab": {
      "provenance": []
    },
    "kernelspec": {
      "name": "python3",
      "display_name": "Python 3"
    },
    "language_info": {
      "name": "python"
    }
  },
  "cells": [
    {
      "cell_type": "code",
      "execution_count": null,
      "metadata": {
        "id": "8qWaEiEo_cDi"
      },
      "outputs": [],
      "source": [
        "import keras\n",
        "import tensorflow as ts\n",
        "import numpy as np\n",
        "import pandas as pd\n",
        "from keras import Sequential\n",
        "from keras.layers import Dense,Conv2D,MaxPooling2D,Flatten,BatchNormalization,Dropout"
      ]
    },
    {
      "cell_type": "code",
      "source": [
        "from google.colab import drive\n",
        "drive.mount('/content/drive')"
      ],
      "metadata": {
        "colab": {
          "base_uri": "https://localhost:8080/"
        },
        "id": "PZReIpCRHGvH",
        "outputId": "6d132ee0-3dc6-4cd4-d71a-53d5359847b5"
      },
      "execution_count": null,
      "outputs": [
        {
          "output_type": "stream",
          "name": "stdout",
          "text": [
            "Mounted at /content/drive\n"
          ]
        }
      ]
    },
    {
      "cell_type": "code",
      "source": [
        "from tensorflow.keras.preprocessing.image import ImageDataGenerator\n",
        "train_dir ='/content/drive/MyDrive/archive/archive/train'\n",
        "test_dir = '/content/drive/MyDrive/archive/archive/test'\n",
        "\n",
        "train_datagen = ImageDataGenerator(rescale=1./255)\n",
        "\n",
        "test_datagen = ImageDataGenerator(rescale=1./255)\n",
        "\n",
        "batch_size = 1\n",
        "\n",
        "train_generator = train_datagen.flow_from_directory(train_dir,target_size=(720,1080),batch_size=batch_size,class_mode='binary')\n",
        "\n",
        "test_generator = test_datagen.flow_from_directory(test_dir,target_size=(720,1080),batch_size=batch_size,class_mode='binary')\n",
        "\n",
        "\n",
        "\n"
      ],
      "metadata": {
        "colab": {
          "base_uri": "https://localhost:8080/"
        },
        "id": "-VgLDd12ItT2",
        "outputId": "29098523-0322-4953-9448-fb1e3109d80e"
      },
      "execution_count": null,
      "outputs": [
        {
          "output_type": "stream",
          "name": "stdout",
          "text": [
            "Found 272 images belonging to 2 classes.\n",
            "Found 140 images belonging to 2 classes.\n"
          ]
        }
      ]
    },
    {
      "cell_type": "code",
      "source": [
        "model = Sequential([Conv2D(32,(3,3),activation='relu', input_shape=(720,1080,3)),MaxPooling2D((2,2)),Conv2D(64,(3,3),activation='relu'), MaxPooling2D((2,2)),Conv2D(128,(3,3),activation='relu'), MaxPooling2D((2,2)),Flatten(),Dense(128,activation='relu'),Dense(1,activation='sigmoid')])\n",
        "\n",
        "model.compile(optimizer='Adam', loss= 'binary_crossentropy',metrics=['accuracy'])\n",
        "\n",
        "history = model.fit(train_generator, epochs=10)\n",
        "\n",
        "loss,accuracy = model.evaluate(test_generator)\n",
        "\n",
        "print(\"Test Accuracy:\", accuracy)"
      ],
      "metadata": {
        "colab": {
          "base_uri": "https://localhost:8080/"
        },
        "id": "czbBnyLfOsHu",
        "outputId": "4b0986eb-aa2f-4b47-a75a-7fadb4b8a752"
      },
      "execution_count": null,
      "outputs": [
        {
          "output_type": "stream",
          "name": "stdout",
          "text": [
            "Epoch 1/10\n",
            "272/272 [==============================] - 1412s 5s/step - loss: 0.0025 - accuracy: 1.0000\n",
            "Epoch 2/10\n",
            "272/272 [==============================] - 1376s 5s/step - loss: 0.0000e+00 - accuracy: 1.0000\n",
            "Epoch 3/10\n",
            "272/272 [==============================] - 1378s 5s/step - loss: 0.0000e+00 - accuracy: 1.0000\n",
            "Epoch 4/10\n",
            "272/272 [==============================] - 1366s 5s/step - loss: 0.0000e+00 - accuracy: 1.0000\n",
            "Epoch 5/10\n",
            "272/272 [==============================] - 1355s 5s/step - loss: 0.0000e+00 - accuracy: 1.0000\n",
            "Epoch 6/10\n",
            "272/272 [==============================] - 1344s 5s/step - loss: 0.0000e+00 - accuracy: 1.0000\n",
            "Epoch 7/10\n",
            "272/272 [==============================] - 1346s 5s/step - loss: 0.0000e+00 - accuracy: 1.0000\n",
            "Epoch 8/10\n",
            "272/272 [==============================] - 1353s 5s/step - loss: 0.0000e+00 - accuracy: 1.0000\n",
            "Epoch 9/10\n",
            "272/272 [==============================] - 1348s 5s/step - loss: 0.0000e+00 - accuracy: 1.0000\n",
            "Epoch 10/10\n",
            "272/272 [==============================] - 1351s 5s/step - loss: 0.0000e+00 - accuracy: 1.0000\n",
            "140/140 [==============================] - 81s 573ms/step - loss: 1658.0950 - accuracy: 0.5000\n",
            "Test Accuracy: 0.5\n"
          ]
        }
      ]
    }
  ]
}